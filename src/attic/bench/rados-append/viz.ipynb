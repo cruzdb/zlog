{
 "cells": [
  {
   "cell_type": "code",
   "execution_count": null,
   "metadata": {},
   "outputs": [],
   "source": [
    "%matplotlib inline\n",
    "import pandas as pd\n",
    "from matplotlib.ticker import ScalarFormatter, FormatStrFormatter\n",
    "import matplotlib\n",
    "matplotlib.rcParams['figure.figsize'] = (9.0, 5.0)\n",
    "import matplotlib.pyplot as plt\n",
    "import seaborn as sns\n",
    "import re\n",
    "import statsmodels\n",
    "import numpy as np\n",
    "from  matplotlib.ticker import FuncFormatter"
   ]
  },
  {
   "cell_type": "code",
   "execution_count": null,
   "metadata": {},
   "outputs": [],
   "source": [
    "sns.set(color_codes=True)\n",
    "sns.set_context(\"notebook\", font_scale=1.5, rc={\"lines.linewidth\": 2.5})"
   ]
  },
  {
   "cell_type": "code",
   "execution_count": null,
   "metadata": {},
   "outputs": [],
   "source": [
    "def plot(prefix):\n",
    "    m = re.match(\"es-(?P<es>\\d+).qd-(?P<qd>\\d+).w-(?P<wd>\\d+).(?P<iface>\\w+)\", prefix)\n",
    "    entry_size = m.group(\"es\")\n",
    "    qdepth = m.group(\"qd\")\n",
    "    width = m.group(\"wd\")\n",
    "    interface = m.group(\"iface\")\n",
    "    \n",
    "    iops = pd.read_csv(\"{}.iops.csv\".format(prefix))\n",
    "    iops[\"sec\"] = (iops.us - min(iops.us)) / 1000000\n",
    "    ax = sns.regplot(iops.sec, iops.iops, x_bins=10, truncate=True)\n",
    "    ax.set_title(\"{}, {}, {}, {}\".format(\n",
    "        entry_size, qdepth, width, interface))\n",
    "    \n",
    "    lat = pd.read_csv(\"{}.latency.csv\".format(prefix))\n",
    "    fig, ax = plt.subplots(figsize=(8, 4))\n",
    "    ax.plot(latency.Value, latency.Percentile)\n",
    "    ax.set_title(\"{}, {}, {}, {}\".format(\n",
    "        entry_size, qdepth, width, interface))\n",
    "    \n",
    "plot(\"es-10.qd-1.w-30.omap\")"
   ]
  }
 ],
 "metadata": {
  "kernelspec": {
   "display_name": "Python 3",
   "language": "python",
   "name": "python3"
  },
  "language_info": {
   "codemirror_mode": {
    "name": "ipython",
    "version": 3
   },
   "file_extension": ".py",
   "mimetype": "text/x-python",
   "name": "python",
   "nbconvert_exporter": "python",
   "pygments_lexer": "ipython3",
   "version": "3.6.5"
  }
 },
 "nbformat": 4,
 "nbformat_minor": 2
}
